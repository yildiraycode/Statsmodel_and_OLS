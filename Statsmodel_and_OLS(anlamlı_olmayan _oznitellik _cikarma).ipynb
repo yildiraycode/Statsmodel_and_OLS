{
 "cells": [
  {
   "cell_type": "markdown",
   "id": "c7f984a9",
   "metadata": {},
   "source": [
    "# statsmodel\n",
    "* hangi özniteliklerin model için %95 güvenilirlikle ne kadar anlamlı olup olmadığı\n",
    "* **veriyi kullanarak bir OLS (Ordinary Least Squares) regresyon modeli oluşturur ve özniteliklerin anlamlılığını test eder.**"
   ]
  },
  {
   "cell_type": "code",
   "execution_count": 1,
   "id": "044cd5b4",
   "metadata": {},
   "outputs": [],
   "source": [
    "import pandas as pd\n",
    "import numpy as np\n",
    "import statsmodels.api as sm\n",
    "from sklearn.datasets import fetch_california_housing\n",
    "from sklearn.model_selection import train_test_split\n",
    "from sklearn.metrics import mean_squared_error"
   ]
  },
  {
   "cell_type": "markdown",
   "id": "643f2c96",
   "metadata": {},
   "source": [
    "#### California Housing veri setini yükleyelim"
   ]
  },
  {
   "cell_type": "code",
   "execution_count": 2,
   "id": "c9415d83",
   "metadata": {},
   "outputs": [],
   "source": [
    "housing = fetch_california_housing()"
   ]
  },
  {
   "cell_type": "code",
   "execution_count": 3,
   "id": "9f888b6f",
   "metadata": {},
   "outputs": [],
   "source": [
    "X = pd.DataFrame(housing.data, columns=housing.feature_names)"
   ]
  },
  {
   "cell_type": "code",
   "execution_count": 4,
   "id": "87093b27",
   "metadata": {},
   "outputs": [
    {
     "data": {
      "text/html": [
       "<div>\n",
       "<style scoped>\n",
       "    .dataframe tbody tr th:only-of-type {\n",
       "        vertical-align: middle;\n",
       "    }\n",
       "\n",
       "    .dataframe tbody tr th {\n",
       "        vertical-align: top;\n",
       "    }\n",
       "\n",
       "    .dataframe thead th {\n",
       "        text-align: right;\n",
       "    }\n",
       "</style>\n",
       "<table border=\"1\" class=\"dataframe\">\n",
       "  <thead>\n",
       "    <tr style=\"text-align: right;\">\n",
       "      <th></th>\n",
       "      <th>MedInc</th>\n",
       "      <th>HouseAge</th>\n",
       "      <th>AveRooms</th>\n",
       "      <th>AveBedrms</th>\n",
       "      <th>Population</th>\n",
       "      <th>AveOccup</th>\n",
       "      <th>Latitude</th>\n",
       "      <th>Longitude</th>\n",
       "    </tr>\n",
       "  </thead>\n",
       "  <tbody>\n",
       "    <tr>\n",
       "      <th>0</th>\n",
       "      <td>8.3252</td>\n",
       "      <td>41.0</td>\n",
       "      <td>6.984127</td>\n",
       "      <td>1.023810</td>\n",
       "      <td>322.0</td>\n",
       "      <td>2.555556</td>\n",
       "      <td>37.88</td>\n",
       "      <td>-122.23</td>\n",
       "    </tr>\n",
       "    <tr>\n",
       "      <th>1</th>\n",
       "      <td>8.3014</td>\n",
       "      <td>21.0</td>\n",
       "      <td>6.238137</td>\n",
       "      <td>0.971880</td>\n",
       "      <td>2401.0</td>\n",
       "      <td>2.109842</td>\n",
       "      <td>37.86</td>\n",
       "      <td>-122.22</td>\n",
       "    </tr>\n",
       "    <tr>\n",
       "      <th>2</th>\n",
       "      <td>7.2574</td>\n",
       "      <td>52.0</td>\n",
       "      <td>8.288136</td>\n",
       "      <td>1.073446</td>\n",
       "      <td>496.0</td>\n",
       "      <td>2.802260</td>\n",
       "      <td>37.85</td>\n",
       "      <td>-122.24</td>\n",
       "    </tr>\n",
       "    <tr>\n",
       "      <th>3</th>\n",
       "      <td>5.6431</td>\n",
       "      <td>52.0</td>\n",
       "      <td>5.817352</td>\n",
       "      <td>1.073059</td>\n",
       "      <td>558.0</td>\n",
       "      <td>2.547945</td>\n",
       "      <td>37.85</td>\n",
       "      <td>-122.25</td>\n",
       "    </tr>\n",
       "    <tr>\n",
       "      <th>4</th>\n",
       "      <td>3.8462</td>\n",
       "      <td>52.0</td>\n",
       "      <td>6.281853</td>\n",
       "      <td>1.081081</td>\n",
       "      <td>565.0</td>\n",
       "      <td>2.181467</td>\n",
       "      <td>37.85</td>\n",
       "      <td>-122.25</td>\n",
       "    </tr>\n",
       "    <tr>\n",
       "      <th>...</th>\n",
       "      <td>...</td>\n",
       "      <td>...</td>\n",
       "      <td>...</td>\n",
       "      <td>...</td>\n",
       "      <td>...</td>\n",
       "      <td>...</td>\n",
       "      <td>...</td>\n",
       "      <td>...</td>\n",
       "    </tr>\n",
       "    <tr>\n",
       "      <th>20635</th>\n",
       "      <td>1.5603</td>\n",
       "      <td>25.0</td>\n",
       "      <td>5.045455</td>\n",
       "      <td>1.133333</td>\n",
       "      <td>845.0</td>\n",
       "      <td>2.560606</td>\n",
       "      <td>39.48</td>\n",
       "      <td>-121.09</td>\n",
       "    </tr>\n",
       "    <tr>\n",
       "      <th>20636</th>\n",
       "      <td>2.5568</td>\n",
       "      <td>18.0</td>\n",
       "      <td>6.114035</td>\n",
       "      <td>1.315789</td>\n",
       "      <td>356.0</td>\n",
       "      <td>3.122807</td>\n",
       "      <td>39.49</td>\n",
       "      <td>-121.21</td>\n",
       "    </tr>\n",
       "    <tr>\n",
       "      <th>20637</th>\n",
       "      <td>1.7000</td>\n",
       "      <td>17.0</td>\n",
       "      <td>5.205543</td>\n",
       "      <td>1.120092</td>\n",
       "      <td>1007.0</td>\n",
       "      <td>2.325635</td>\n",
       "      <td>39.43</td>\n",
       "      <td>-121.22</td>\n",
       "    </tr>\n",
       "    <tr>\n",
       "      <th>20638</th>\n",
       "      <td>1.8672</td>\n",
       "      <td>18.0</td>\n",
       "      <td>5.329513</td>\n",
       "      <td>1.171920</td>\n",
       "      <td>741.0</td>\n",
       "      <td>2.123209</td>\n",
       "      <td>39.43</td>\n",
       "      <td>-121.32</td>\n",
       "    </tr>\n",
       "    <tr>\n",
       "      <th>20639</th>\n",
       "      <td>2.3886</td>\n",
       "      <td>16.0</td>\n",
       "      <td>5.254717</td>\n",
       "      <td>1.162264</td>\n",
       "      <td>1387.0</td>\n",
       "      <td>2.616981</td>\n",
       "      <td>39.37</td>\n",
       "      <td>-121.24</td>\n",
       "    </tr>\n",
       "  </tbody>\n",
       "</table>\n",
       "<p>20640 rows × 8 columns</p>\n",
       "</div>"
      ],
      "text/plain": [
       "       MedInc  HouseAge  AveRooms  AveBedrms  Population  AveOccup  Latitude  \\\n",
       "0      8.3252      41.0  6.984127   1.023810       322.0  2.555556     37.88   \n",
       "1      8.3014      21.0  6.238137   0.971880      2401.0  2.109842     37.86   \n",
       "2      7.2574      52.0  8.288136   1.073446       496.0  2.802260     37.85   \n",
       "3      5.6431      52.0  5.817352   1.073059       558.0  2.547945     37.85   \n",
       "4      3.8462      52.0  6.281853   1.081081       565.0  2.181467     37.85   \n",
       "...       ...       ...       ...        ...         ...       ...       ...   \n",
       "20635  1.5603      25.0  5.045455   1.133333       845.0  2.560606     39.48   \n",
       "20636  2.5568      18.0  6.114035   1.315789       356.0  3.122807     39.49   \n",
       "20637  1.7000      17.0  5.205543   1.120092      1007.0  2.325635     39.43   \n",
       "20638  1.8672      18.0  5.329513   1.171920       741.0  2.123209     39.43   \n",
       "20639  2.3886      16.0  5.254717   1.162264      1387.0  2.616981     39.37   \n",
       "\n",
       "       Longitude  \n",
       "0        -122.23  \n",
       "1        -122.22  \n",
       "2        -122.24  \n",
       "3        -122.25  \n",
       "4        -122.25  \n",
       "...          ...  \n",
       "20635    -121.09  \n",
       "20636    -121.21  \n",
       "20637    -121.22  \n",
       "20638    -121.32  \n",
       "20639    -121.24  \n",
       "\n",
       "[20640 rows x 8 columns]"
      ]
     },
     "execution_count": 4,
     "metadata": {},
     "output_type": "execute_result"
    }
   ],
   "source": [
    "X"
   ]
  },
  {
   "cell_type": "code",
   "execution_count": 5,
   "id": "4529a58b",
   "metadata": {},
   "outputs": [],
   "source": [
    "y = pd.Series(housing.target, name='MedHouseVal')"
   ]
  },
  {
   "cell_type": "code",
   "execution_count": 6,
   "id": "5061af82",
   "metadata": {},
   "outputs": [
    {
     "data": {
      "text/plain": [
       "0        4.526\n",
       "1        3.585\n",
       "2        3.521\n",
       "3        3.413\n",
       "4        3.422\n",
       "         ...  \n",
       "20635    0.781\n",
       "20636    0.771\n",
       "20637    0.923\n",
       "20638    0.847\n",
       "20639    0.894\n",
       "Name: MedHouseVal, Length: 20640, dtype: float64"
      ]
     },
     "execution_count": 6,
     "metadata": {},
     "output_type": "execute_result"
    }
   ],
   "source": [
    "y"
   ]
  },
  {
   "cell_type": "markdown",
   "id": "4ba3fe42",
   "metadata": {},
   "source": [
    "#### Eğitim ve test verilerine bölelim"
   ]
  },
  {
   "cell_type": "code",
   "execution_count": 7,
   "id": "ea27567c",
   "metadata": {},
   "outputs": [],
   "source": [
    "X_train, X_test, y_train, y_test = train_test_split(X, y, test_size=0.2, random_state=42)"
   ]
  },
  {
   "cell_type": "markdown",
   "id": "06fde7ee",
   "metadata": {},
   "source": [
    "#### Statsmodels ile OLS (Ordinary Least Squares) regresyonu"
   ]
  },
  {
   "cell_type": "code",
   "execution_count": 8,
   "id": "455f940c",
   "metadata": {},
   "outputs": [],
   "source": [
    "X_train_const = sm.add_constant(X_train)  # Sabit terim ekliyoruz"
   ]
  },
  {
   "cell_type": "code",
   "execution_count": 9,
   "id": "d5a4a90f",
   "metadata": {},
   "outputs": [],
   "source": [
    "model = sm.OLS(y_train, X_train_const).fit()\n"
   ]
  },
  {
   "cell_type": "code",
   "execution_count": 10,
   "id": "bb45f0fe",
   "metadata": {},
   "outputs": [
    {
     "name": "stdout",
     "output_type": "stream",
     "text": [
      "                            OLS Regression Results                            \n",
      "==============================================================================\n",
      "Dep. Variable:            MedHouseVal   R-squared:                       0.613\n",
      "Model:                            OLS   Adj. R-squared:                  0.612\n",
      "Method:                 Least Squares   F-statistic:                     3261.\n",
      "Date:                Tue, 30 Jul 2024   Prob (F-statistic):               0.00\n",
      "Time:                        16:49:55   Log-Likelihood:                -17998.\n",
      "No. Observations:               16512   AIC:                         3.601e+04\n",
      "Df Residuals:                   16503   BIC:                         3.608e+04\n",
      "Df Model:                           8                                         \n",
      "Covariance Type:            nonrobust                                         \n",
      "==============================================================================\n",
      "                 coef    std err          t      P>|t|      [0.025      0.975]\n",
      "------------------------------------------------------------------------------\n",
      "const        -37.0233      0.728    -50.835      0.000     -38.451     -35.596\n",
      "MedInc         0.4487      0.005     95.697      0.000       0.439       0.458\n",
      "HouseAge       0.0097      0.000     19.665      0.000       0.009       0.011\n",
      "AveRooms      -0.1233      0.007    -18.677      0.000      -0.136      -0.110\n",
      "AveBedrms      0.7831      0.033     23.556      0.000       0.718       0.848\n",
      "Population  -2.03e-06   5.25e-06     -0.387      0.699   -1.23e-05    8.26e-06\n",
      "AveOccup      -0.0035      0.000     -7.253      0.000      -0.004      -0.003\n",
      "Latitude      -0.4198      0.008    -52.767      0.000      -0.435      -0.404\n",
      "Longitude     -0.4337      0.008    -52.117      0.000      -0.450      -0.417\n",
      "==============================================================================\n",
      "Omnibus:                     3333.187   Durbin-Watson:                   1.962\n",
      "Prob(Omnibus):                  0.000   Jarque-Bera (JB):             9371.466\n",
      "Skew:                           1.071   Prob(JB):                         0.00\n",
      "Kurtosis:                       6.006   Cond. No.                     2.38e+05\n",
      "==============================================================================\n",
      "\n",
      "Notes:\n",
      "[1] Standard Errors assume that the covariance matrix of the errors is correctly specified.\n",
      "[2] The condition number is large, 2.38e+05. This might indicate that there are\n",
      "strong multicollinearity or other numerical problems.\n"
     ]
    }
   ],
   "source": [
    "# Model özetini yazdırma\n",
    "print(model.summary())"
   ]
  },
  {
   "cell_type": "code",
   "execution_count": 11,
   "id": "043bd840",
   "metadata": {},
   "outputs": [],
   "source": [
    "# p-değeri 0.05'ten küçük olan öznitelikleri seçiyoruz\n",
    "significant_features = model.pvalues[model.pvalues < 0.05].index.tolist()\n",
    "significant_features.remove('const')  # Sabit terimi listeden çıkarıyoruz"
   ]
  },
  {
   "cell_type": "markdown",
   "id": "4f5741f4",
   "metadata": {},
   "source": [
    "#### Anlamlı özniteliklerle yeni bir model oluşturuyoruz"
   ]
  },
  {
   "cell_type": "code",
   "execution_count": 12,
   "id": "15dc71d3",
   "metadata": {},
   "outputs": [],
   "source": [
    "X_train_sig = X_train[significant_features]\n",
    "X_train_sig_const = sm.add_constant(X_train_sig)\n",
    "model_sig = sm.OLS(y_train, X_train_sig_const).fit()"
   ]
  },
  {
   "cell_type": "code",
   "execution_count": 13,
   "id": "ee6e3f7a",
   "metadata": {},
   "outputs": [
    {
     "name": "stdout",
     "output_type": "stream",
     "text": [
      "                            OLS Regression Results                            \n",
      "==============================================================================\n",
      "Dep. Variable:            MedHouseVal   R-squared:                       0.613\n",
      "Model:                            OLS   Adj. R-squared:                  0.612\n",
      "Method:                 Least Squares   F-statistic:                     3727.\n",
      "Date:                Tue, 30 Jul 2024   Prob (F-statistic):               0.00\n",
      "Time:                        16:55:42   Log-Likelihood:                -17998.\n",
      "No. Observations:               16512   AIC:                         3.601e+04\n",
      "Df Residuals:                   16504   BIC:                         3.607e+04\n",
      "Df Model:                           7                                         \n",
      "Covariance Type:            nonrobust                                         \n",
      "==============================================================================\n",
      "                 coef    std err          t      P>|t|      [0.025      0.975]\n",
      "------------------------------------------------------------------------------\n",
      "const        -37.0114      0.728    -50.865      0.000     -38.438     -35.585\n",
      "MedInc         0.4487      0.005     95.743      0.000       0.440       0.458\n",
      "HouseAge       0.0098      0.000     20.864      0.000       0.009       0.011\n",
      "AveRooms      -0.1233      0.007    -18.674      0.000      -0.136      -0.110\n",
      "AveBedrms      0.7832      0.033     23.560      0.000       0.718       0.848\n",
      "AveOccup      -0.0035      0.000     -7.312      0.000      -0.004      -0.003\n",
      "Latitude      -0.4195      0.008    -52.993      0.000      -0.435      -0.404\n",
      "Longitude     -0.4335      0.008    -52.229      0.000      -0.450      -0.417\n",
      "==============================================================================\n",
      "Omnibus:                     3338.428   Durbin-Watson:                   1.962\n",
      "Prob(Omnibus):                  0.000   Jarque-Bera (JB):             9390.846\n",
      "Skew:                           1.072   Prob(JB):                         0.00\n",
      "Kurtosis:                       6.009   Cond. No.                     1.67e+04\n",
      "==============================================================================\n",
      "\n",
      "Notes:\n",
      "[1] Standard Errors assume that the covariance matrix of the errors is correctly specified.\n",
      "[2] The condition number is large, 1.67e+04. This might indicate that there are\n",
      "strong multicollinearity or other numerical problems.\n"
     ]
    }
   ],
   "source": [
    "# Yeni model özetini yazdırma\n",
    "print(model_sig.summary())"
   ]
  },
  {
   "cell_type": "markdown",
   "id": "33199397",
   "metadata": {},
   "source": [
    "## Yeni Modeli Test Etme ve Karşılaştırma"
   ]
  },
  {
   "cell_type": "markdown",
   "id": "e5e1e32b",
   "metadata": {},
   "source": [
    "#### test verisi üzerinde tahminler"
   ]
  },
  {
   "cell_type": "code",
   "execution_count": 14,
   "id": "830887a0",
   "metadata": {},
   "outputs": [],
   "source": [
    "X_test_const = sm.add_constant(X_test)\n",
    "y_pred = model.predict(X_test_const)\n",
    "\n",
    "X_test_sig = X_test[significant_features]\n",
    "X_test_sig_const = sm.add_constant(X_test_sig)\n",
    "y_pred_sig = model_sig.predict(X_test_sig_const)"
   ]
  },
  {
   "cell_type": "markdown",
   "id": "e778129c",
   "metadata": {},
   "source": [
    "#### Performans karşılaştırması (Mean Squared Error)"
   ]
  },
  {
   "cell_type": "code",
   "execution_count": 15,
   "id": "a90f14fd",
   "metadata": {},
   "outputs": [
    {
     "name": "stdout",
     "output_type": "stream",
     "text": [
      "Original Model MSE: 0.5558915986952462\n",
      "Significant Features Model MSE: 0.5559531347340669\n"
     ]
    }
   ],
   "source": [
    "mse_original = mean_squared_error(y_test, y_pred)\n",
    "mse_significant = mean_squared_error(y_test, y_pred_sig)\n",
    "\n",
    "print(f'Original Model MSE: {mse_original}')\n",
    "print(f'Significant Features Model MSE: {mse_significant}')"
   ]
  },
  {
   "cell_type": "markdown",
   "id": "b6e4e9d5",
   "metadata": {},
   "source": [
    "* Model performansını karşılaştırmak için ortalama kare hatası (MSE) kullanılır. MSE, modelin tahminlerinin gerçek değerlerden ne kadar sapma gösterdiğini ölçer; daha düşük bir MSE değeri, daha iyi bir model performansını gösterir.\n",
    "* Her iki modelin de MSE değerleri birbirine çok yakın olduğundan, performans açısından büyük bir fark yoktur. Orijinal model biraz daha iyi performans gösteriyor olsa da, anlamlı özniteliklerle oluşturulan modelin avantajları göz önünde bulundurularak (örneğin, modelin daha basit ve yorumlanabilir olması) tercih edilebilir. MSE'nin çok yakın olması, anlamlı özniteliklerle oluşturulan modelin performans kaybı olmadan daha sade bir model sunduğunu gösterir."
   ]
  },
  {
   "cell_type": "code",
   "execution_count": null,
   "id": "b6d14f69",
   "metadata": {},
   "outputs": [],
   "source": []
  }
 ],
 "metadata": {
  "kernelspec": {
   "display_name": "Python 3 (ipykernel)",
   "language": "python",
   "name": "python3"
  },
  "language_info": {
   "codemirror_mode": {
    "name": "ipython",
    "version": 3
   },
   "file_extension": ".py",
   "mimetype": "text/x-python",
   "name": "python",
   "nbconvert_exporter": "python",
   "pygments_lexer": "ipython3",
   "version": "3.11.5"
  }
 },
 "nbformat": 4,
 "nbformat_minor": 5
}
